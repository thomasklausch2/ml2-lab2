{
 "cells": [
  {
   "cell_type": "code",
   "execution_count": 10,
   "metadata": {
    "collapsed": false
   },
   "outputs": [
    {
     "data": {
      "text/plain": [
       "array([4, 4, 4])"
      ]
     },
     "execution_count": 10,
     "metadata": {},
     "output_type": "execute_result"
    }
   ],
   "source": [
    "a = np.array([1,2,3])\n",
    "a[:] = 4\n",
    "a"
   ]
  },
  {
   "cell_type": "code",
   "execution_count": 21,
   "metadata": {
    "collapsed": false
   },
   "outputs": [
    {
     "data": {
      "text/plain": [
       "array([[[ 8, 10],\n",
       "        [ 9, 11],\n",
       "        [10, 12]],\n",
       "\n",
       "       [[ 9, 11],\n",
       "        [10, 12],\n",
       "        [11, 13]]])"
      ]
     },
     "execution_count": 21,
     "metadata": {},
     "output_type": "execute_result"
    }
   ],
   "source": [
    "x = np.array([1,2,3])\n",
    "y = np.array([4,5])\n",
    "z = np.array([1,2])\n",
    "np.add.outer(z,np.add.outer(x, y))\n",
    "\n",
    "np.add([2,3],np.add.outer(z,np.add.outer(x, y)))"
   ]
  },
  {
   "cell_type": "code",
   "execution_count": 22,
   "metadata": {
    "collapsed": false
   },
   "outputs": [
    {
     "data": {
      "text/plain": [
       "array([[[ 6,  7],\n",
       "        [ 7,  8],\n",
       "        [ 8,  9]],\n",
       "\n",
       "       [[ 7,  8],\n",
       "        [ 8,  9],\n",
       "        [ 9, 10]]])"
      ]
     },
     "execution_count": 22,
     "metadata": {},
     "output_type": "execute_result"
    }
   ],
   "source": [
    "array([[[ 8, 10],\n",
    "        [ 9, 11],\n",
    "        [10, 12]],\n",
    "\n",
    "       [[ 9, 11],\n",
    "        [10, 12],\n",
    "        [11, 13]]])\n",
    "\n",
    "S = np.add.outer(x, y)\n",
    "np.add.outer(z,S)"
   ]
  },
  {
   "cell_type": "code",
   "execution_count": 4,
   "metadata": {
    "collapsed": true
   },
   "outputs": [],
   "source": [
    "import numpy as np"
   ]
  },
  {
   "cell_type": "code",
   "execution_count": 30,
   "metadata": {
    "collapsed": false
   },
   "outputs": [
    {
     "name": "stdout",
     "output_type": "stream",
     "text": [
      "[[ 8 10]\n",
      " [ 9 11]]\n",
      "[[ 9 11]\n",
      " [10 12]]\n",
      "[[10 12]\n",
      " [11 13]]\n"
     ]
    }
   ],
   "source": [
    "ar = np.array([[[ 8, 10],\n",
    "                [ 9, 11],\n",
    "                [10, 12]],\n",
    "               [[ 9, 11],\n",
    "                [10, 12],\n",
    "                [11, 13]]])\n",
    "\n",
    "dim_names = ['A','B','C']\n",
    "ind       = dim_names.index('B')\n",
    "\n",
    "for i in range(ar.shape[ind]):\n",
    "    print(ar[:,i,:])\n"
   ]
  },
  {
   "cell_type": "code",
   "execution_count": 31,
   "metadata": {
    "collapsed": false
   },
   "outputs": [
    {
     "data": {
      "text/plain": [
       "2"
      ]
     },
     "execution_count": 31,
     "metadata": {},
     "output_type": "execute_result"
    }
   ],
   "source": [
    "np.argmax(np.array([1,2,5,4]))"
   ]
  }
 ],
 "metadata": {
  "anaconda-cloud": {},
  "kernelspec": {
   "display_name": "Python [Root]",
   "language": "python",
   "name": "Python [Root]"
  },
  "language_info": {
   "codemirror_mode": {
    "name": "ipython",
    "version": 3
   },
   "file_extension": ".py",
   "mimetype": "text/x-python",
   "name": "python",
   "nbconvert_exporter": "python",
   "pygments_lexer": "ipython3",
   "version": "3.5.2"
  }
 },
 "nbformat": 4,
 "nbformat_minor": 0
}
