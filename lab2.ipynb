{
 "cells": [
  {
   "cell_type": "markdown",
   "metadata": {},
   "source": [
    "# Lab 2: Inference in Graphical Models\n",
    "\n",
    "### Machine Learning 2 (2016/2017)\n",
    "\n",
    "* The lab exercises should be made in groups of two people or individually.\n",
    "* The hand-in deadline is Wednesday, May 10, 23:59.\n",
    "* Assignment should be sent to p.j.j.p.versteeg@uva.nl. The subject line of your email should be \"[ML2_2017] lab#_lastname1\\_lastname2\". \n",
    "* Put your and your teammates' names in the body of the email\n",
    "* Attach the .IPYNB (IPython Notebook) file containing your code and answers. Naming of the file follows the same rule as the subject line. For example, if the subject line is \"[ML2_2017] lab02\\_Bongers\\_Blom\", the attached file should be \"lab02\\_Bongers\\_Blom.ipynb\". Only use underscores (\"\\_\") to connect names, otherwise the files cannot be parsed.\n",
    "\n",
    "Notes on implementation:\n",
    "\n",
    "* You should write your code and answers in an IPython Notebook: http://ipython.org/notebook.html. If you have problems, please ask or e-mail Philip.\n",
    "* For some of the questions, you can write the code directly in the first code cell that provides the class structure.\n",
    "* Among the first lines of your notebook should be \"%pylab inline\". This imports all required modules, and your plots will appear inline.\n",
    "* NOTE: test your code and make sure we can run your notebook / scripts!"
   ]
  },
  {
   "cell_type": "markdown",
   "metadata": {},
   "source": [
    "### Introduction\n",
    "In this assignment, we will implement the sum-product and max-sum algorithms for factor graphs over discrete variables. The relevant theory is covered in chapter 8 of Bishop's PRML book, in particular section 8.4. Read this chapter carefuly before continuing!\n",
    "\n",
    "We will first implement sum-product and max-sum and apply it to a simple poly-tree structured factor graph for medical diagnosis. Then, we will implement a loopy version of the algorithms and use it for image denoising.\n",
    "\n",
    "For this assignment we recommended you stick to numpy ndarrays (constructed with np.array, np.zeros, np.ones, etc.) as opposed to numpy matrices, because arrays can store n-dimensional arrays whereas matrices only work for 2d arrays. We need n-dimensional arrays in order to store conditional distributions with more than 1 conditioning variable. If you want to perform matrix multiplication on arrays, use the np.dot function; all infix operators including *, +, -, work element-wise on arrays."
   ]
  },
  {
   "cell_type": "markdown",
   "metadata": {},
   "source": [
    "## Part 1: The sum-product algorithm\n",
    "\n",
    "We will implement a datastructure to store a factor graph and to facilitate computations on this graph. Recall that a factor graph consists of two types of nodes, factors and variables. Below you will find some classes for these node types to get you started. Carefully inspect this code and make sure you understand what it does; you will have to build on it later."
   ]
  },
  {
   "cell_type": "code",
   "execution_count": 1,
   "metadata": {
    "collapsed": false
   },
   "outputs": [],
   "source": [
    "import numpy as np"
   ]
  },
  {
   "cell_type": "code",
   "execution_count": 2,
   "metadata": {
    "collapsed": false
   },
   "outputs": [
    {
     "name": "stdout",
     "output_type": "stream",
     "text": [
      "Populating the interactive namespace from numpy and matplotlib\n"
     ]
    }
   ],
   "source": [
    "%pylab inline\n",
    "class Node(object):\n",
    "    \"\"\"\n",
    "    Base-class for Nodes in a factor graph. Only instantiate sub-classes of Node.\n",
    "    \"\"\"\n",
    "    def __init__(self, name):\n",
    "        # A name for this Node, for printing purposes\n",
    "        self.name = name\n",
    "        \n",
    "        # Neighbours in the graph, identified with their index in this list.\n",
    "        # i.e. self.neighbours contains neighbour 0 through len(self.neighbours) - 1.\n",
    "        self.neighbours = []\n",
    "        \n",
    "        # Reset the node-state (not the graph topology)\n",
    "        self.reset()\n",
    "        \n",
    "    def reset(self):\n",
    "        # Incoming messages; a dictionary mapping neighbours to messages.\n",
    "        # That is, it maps  Node -> np.ndarray.\n",
    "        self.in_msgs = {}\n",
    "        \n",
    "        # A set of neighbours for which this node has pending messages.\n",
    "        # We use a python set object so we don't have to worry about duplicates.\n",
    "        self.pending = set([])\n",
    "\n",
    "    def add_neighbour(self, nb):\n",
    "        self.neighbours.append(nb)\n",
    "\n",
    "    def send_sp_msg(self, other):\n",
    "        # To be implemented in subclass.\n",
    "        raise Exception('Method send_sp_msg not implemented in base-class Node')\n",
    "   \n",
    "    def send_ms_msg(self, other):\n",
    "        # To be implemented in subclass.\n",
    "        raise Exception('Method send_ms_msg not implemented in base-class Node')\n",
    "    \n",
    "    def receive_msg(self, other, msg):\n",
    "        # Store the incomming message, replacing previous messages from the same node\n",
    "        self.in_msgs[other] = msg\n",
    "        print(\"received msg \", other.name, self.name, msg)\n",
    "\n",
    "        list_pending  = [n for n in self.neighbours if n is not other] # Make list of all other neighbouring nodes as pening\n",
    "        \n",
    "        # Remove for each in list_pending if not all messages needed received\n",
    "        #for check_node in list_pending:\n",
    "        #    in_neighbours = ([n for n in check_node.neighbours if n is not other])\n",
    "        #    if sum([n in self.in_msgs.keys() for n in in_neighbours]) != len(in_neighbours):\n",
    "        #        list_pending.remove(check_node)\n",
    "        for check_node in list_pending:\n",
    "            in_neighbours = ([n for n in self.neighbours if n is not check_node])\n",
    "            if sum([n in self.in_msgs.keys() for n in in_neighbours]) != len(in_neighbours):\n",
    "                list_pending.remove(check_node)\n",
    "\n",
    "        # Update set of pending nodes\n",
    "        set_pending_neighbours = set(list_pending)\n",
    "        self.pending.update(set_pending_neighbours)\n",
    "    \n",
    "    def __str__(self):\n",
    "        # This is printed when using 'print node_instance'\n",
    "        return self.name\n",
    "\n",
    "\n",
    "class Variable(Node):\n",
    "    def __init__(self, name, num_states):\n",
    "        \"\"\"\n",
    "        Variable node constructor.\n",
    "        Args:\n",
    "            name: a name string for this node. Used for printing. \n",
    "            num_states: the number of states this variable can take.\n",
    "            Allowable states run from 0 through (num_states - 1).\n",
    "            For example, for a binary variable num_states=2,\n",
    "            and the allowable states are 0, 1.\n",
    "        \"\"\"\n",
    "        self.num_states = num_states\n",
    "        \n",
    "        # Call the base-class constructor\n",
    "        super(Variable, self).__init__(name)\n",
    "    \n",
    "    def set_observed(self, observed_state):\n",
    "        \"\"\"\n",
    "        Set this variable to an observed state.\n",
    "        Args:\n",
    "            observed_state: an integer value in [0, self.num_states - 1].\n",
    "        \"\"\"\n",
    "        # Observed state is represented as a 1-of-N variable\n",
    "        # Could be 0.0 for sum-product, but log(0.0) = -inf so a tiny value is preferable for max-sum\n",
    "        self.observed_state[:] = 0.000001\n",
    "        self.observed_state[observed_state] = 1.0\n",
    "        \n",
    "    def set_latent(self):\n",
    "        \"\"\"\n",
    "        Erase an observed state for this variable and consider it latent again.\n",
    "        \"\"\"\n",
    "        # No state is preferred, so set all entries of observed_state to 1.0\n",
    "        # Using this representation we need not differentiate between observed and latent\n",
    "        # variables when sending messages.\n",
    "        self.observed_state[:] = 1.0\n",
    "        \n",
    "    def reset(self):\n",
    "        super(Variable, self).reset()\n",
    "        self.observed_state = np.ones(self.num_states)\n",
    "        \n",
    "    def marginal(self, Z=None): #send_sp_msg for variable node class\n",
    "        in_neighbours = ([n for n in self.neighbours])\n",
    "        #check .name argument\n",
    "        assert sum([n in self.in_msgs.keys() for n in in_neighbours]) == len(in_neighbours), \"Not all incoming message neighbours are in keys\"\n",
    "\n",
    "        if( sum(self.observed_state) == self.num_states):\n",
    "            in_messages = [self.in_msgs[n] for n in self.neighbours]   # List of all factor in-messages to variable\n",
    "            # Each category in message is multiplied with the same category in all other in_messages, element-wise\n",
    "            marginal = np.ones(self.num_states)\n",
    "            for i in range(len(in_messages)):\n",
    "                marginal = np.multiply(marginal,in_messages[i])\n",
    "\n",
    "            if Z==None:\n",
    "                Z = sum(marginal)\n",
    "            marginal = 1/Z * marginal\n",
    "        \n",
    "        else:\n",
    "            marginal = np.round(self.observed_state)\n",
    "\n",
    "        return marginal, Z\n",
    "\n",
    "    def send_sp_msg(self,other): #send_sp_msg for variable node class\n",
    "    \n",
    "        in_neighbours = ([n for n in self.neighbours if n is not other])\n",
    "        if sum([n in self.in_msgs.keys() for n in in_neighbours]) == len(in_neighbours):\n",
    "        \n",
    "            if len(self.neighbours) == 1:\n",
    "                out_message = np.ones(self.num_states)\n",
    "            else:\n",
    "                in_messages = [self.in_msgs[n] for n in self.neighbours if n is not other]   # List of factor in-messages to variable except the one from target factor\n",
    "\n",
    "                # Each category in message is multiplied with the same category in all other in_messages, element-wise (minus other)\n",
    "                out_message = np.ones(self.num_states)\n",
    "                for i in range(len(in_messages)):\n",
    "                    out_message = np.multiply(out_message,in_messages[i])     \n",
    "            \n",
    "            out_message *= self.observed_state\n",
    "            other.receive_msg(other=self, msg = out_message)\n",
    "\n",
    "    def send_ms_msg(self,other): #send_ms_msg for variable node class\n",
    "\n",
    "        in_neighbours = ([n for n in self.neighbours if n is not other])\n",
    "        if sum([n in self.in_msgs.keys() for n in in_neighbours]) == len(in_neighbours):\n",
    "\n",
    "            if len(self.neighbours) == 1:\n",
    "                out_message = np.zeros(self.num_states)\n",
    "            else:\n",
    "                in_messages = [self.in_msgs[n] for n in self.neighbours if n is not other]   # List of factor in-messages to variable except the one from target factor\n",
    "\n",
    "                # Each category in message is multiplied with the same category in all other in_messages, element-wise (minus other)\n",
    "                out_message = np.zeros(self.num_states)\n",
    "                for i in range(len(in_messages)):\n",
    "                    out_message = out_message + in_messages[i]\n",
    "\n",
    "            out_message *= self.observed_state\n",
    "            other.receive_msg(other=self, msg = out_message)\n",
    "\n",
    "class Factor(Node):\n",
    "    def __init__(self, name, f, neighbours):\n",
    "        \"\"\"\n",
    "        Factor node constructor.\n",
    "        Args:\n",
    "            name: a name string for this node. Used for printing\n",
    "            f: a numpy.ndarray with N axes, where N is the number of neighbours.\n",
    "               That is, the axes of f correspond to variables, and the index along that axes corresponds to a value of that variable.\n",
    "               Each axis of the array should have as many entries as the corresponding neighbour variable has states.\n",
    "            neighbours: a list of neighbouring Variables. Bi-directional connections are created.\n",
    "        \"\"\"\n",
    "        # Call the base-class constructor\n",
    "        super(Factor, self).__init__(name)\n",
    "\n",
    "        assert len(neighbours) == f.ndim, 'Factor function f should accept as many arguments as this Factor node has neighbours'\n",
    "        \n",
    "        for nb_ind in range(len(neighbours)):\n",
    "            nb = neighbours[nb_ind]\n",
    "            assert f.shape[nb_ind] == nb.num_states, 'The range of the factor function f is invalid for input %i %s' % (nb_ind, nb.name)\n",
    "            self.add_neighbour(nb)\n",
    "            nb.add_neighbour(self)\n",
    "\n",
    "        self.f = f\n",
    "        \n",
    "    def send_sp_msg(self,other):\n",
    "\n",
    "        in_neighbours = ([n for n in self.neighbours if n is not other])\n",
    "        if sum([n in self.in_msgs.keys() for n in in_neighbours]) == len(in_neighbours):\n",
    "\n",
    "            if len(self.neighbours) == 1:\n",
    "                out_message = self.f\n",
    "            else:\n",
    "                in_messages    = [self.in_msgs[n] for n in self.neighbours if n is not other]   # List of in-message 1x2 arrays to factor\n",
    "                no_in_messages = len(in_messages)               # Number of messages received (from sending nodes)\n",
    "                b_index        = list(range(0,no_in_messages))  # If our hypthesis is correct\n",
    "                a_index        = [self.neighbours.index(n) for n in self.neighbours if n is not other] # Index of sending neighbours\n",
    "                outer_prod     = np.multiply.reduce(np.ix_(*in_messages)) \n",
    "                out_message    = tensordot(a = self.f, b = outer_prod, axes= (a_index, b_index) )\n",
    "\n",
    "            other.receive_msg(other=self, msg = out_message)\n",
    "\n",
    "    def send_ms_msg(self,other): #Factor to variable (MS)\n",
    "\n",
    "        in_neighbours = ([n for n in self.neighbours if n is not other])\n",
    "        if sum([n in self.in_msgs.keys() for n in in_neighbours]) == len(in_neighbours):\n",
    "\n",
    "            if len(self.neighbours) == 1:\n",
    "                out_message = np.log(self.f)\n",
    "            else:\n",
    "                in_messages    = [self.in_msgs[n] for n in self.neighbours if n is not other]   # List of in-message 1x2 arrays to factor\n",
    "                no_in_messages = len(in_messages)               # Number of messages received (from sending nodes)\n",
    "\n",
    "                S = in_messages[0]\n",
    "                if (no_in_messages > 1):\n",
    "                    S = np.add.outer( in_messages[0], in_messages[1])\n",
    "                if (no_in_messages > 2):\n",
    "                    for i in range(2,no_in_messages):\n",
    "                        print(i, in_messages)\n",
    "                        S = np.add.outer( in_messages[i], S)\n",
    "\n",
    "                ind = self.neighbours.index(other)\n",
    "                ar  = self.f\n",
    "                out_message = np.zeros(other.num_states)\n",
    "                for i in range(ar.shape[ind]):\n",
    "                    idx = [slice(None)] * ar.ndim             # inintialize the index with the same length \n",
    "                                                              # as the dimensions\n",
    "                    idx[ind] = i                              # modify the index of the desired dimension\n",
    "                    log_ar = np.log(ar[tuple(idx)])\n",
    "                    out_message[i] = np.max(log_ar + S)\n",
    "\n",
    "            other.receive_msg(other=self, msg = out_message)\n"
   ]
  },
  {
   "cell_type": "markdown",
   "metadata": {},
   "source": [
    "### 1.1 Instantiate network (10 points)\n",
    "Convert the directed graphical model (\"Bayesian Network\") shown below to a factor graph. Instantiate this graph by creating Variable and Factor instances and linking them according to the graph structure. \n",
    "To instantiate the factor graph, first create the Variable nodes and then create Factor nodes, passing a list of neighbour Variables to each Factor.\n",
    "Use the following prior and conditional probabilities.\n",
    "\n",
    "$$\n",
    "p(\\verb+Influenza+) = 0.05 \\\\\\\\\n",
    "p(\\verb+Smokes+) = 0.2 \\\\\\\\\n",
    "$$\n",
    "\n",
    "$$\n",
    "p(\\verb+SoreThroat+ = 1 | \\verb+Influenza+ = 1) = 0.3 \\\\\\\\\n",
    "p(\\verb+SoreThroat+ = 1 | \\verb+Influenza+ = 0) = 0.001 \\\\\\\\\n",
    "p(\\verb+Fever+ = 1| \\verb+Influenza+ = 1) = 0.9 \\\\\\\\\n",
    "p(\\verb+Fever+ = 1| \\verb+Influenza+ = 0) = 0.05 \\\\\\\\\n",
    "p(\\verb+Bronchitis+ = 1 | \\verb+Influenza+ = 1, \\verb+Smokes+ = 1) = 0.99 \\\\\\\\\n",
    "p(\\verb+Bronchitis+ = 1 | \\verb+Influenza+ = 1, \\verb+Smokes+ = 0) = 0.9 \\\\\\\\\n",
    "p(\\verb+Bronchitis+ = 1 | \\verb+Influenza+ = 0, \\verb+Smokes+ = 1) = 0.7 \\\\\\\\\n",
    "p(\\verb+Bronchitis+ = 1 | \\verb+Influenza+ = 0, \\verb+Smokes+ = 0) = 0.0001 \\\\\\\\\n",
    "p(\\verb+Coughing+ = 1| \\verb+Bronchitis+ = 1) = 0.8 \\\\\\\\\n",
    "p(\\verb+Coughing+ = 1| \\verb+Bronchitis+ = 0) = 0.07 \\\\\\\\\n",
    "p(\\verb+Wheezing+ = 1| \\verb+Bronchitis+ = 1) = 0.6 \\\\\\\\\n",
    "p(\\verb+Wheezing+ = 1| \\verb+Bronchitis+ = 0) = 0.001 \\\\\\\\\n",
    "$$"
   ]
  },
  {
   "cell_type": "code",
   "execution_count": 3,
   "metadata": {
    "collapsed": false
   },
   "outputs": [
    {
     "data": {
      "image/png": "[encoded data removed]",
      "text/plain": [
       "<IPython.core.display.Image object>"
      ]
     },
     "execution_count": 3,
     "metadata": {},
     "output_type": "execute_result"
    }
   ],
   "source": [
    "from IPython.core.display import Image \n",
    "Image(filename='bn.png') "
   ]
  },
  {
   "cell_type": "code",
   "execution_count": 4,
   "metadata": {
    "collapsed": false
   },
   "outputs": [],
   "source": [
    "v_I   = Variable(name = \"v_I\",  num_states = 2)\n",
    "v_ST  = Variable(name = \"v_ST\", num_states = 2)\n",
    "v_F   = Variable(name = \"v_F\",  num_states = 2)\n",
    "v_B   = Variable(name = \"v_B\",  num_states = 2)\n",
    "v_SM  = Variable(name = \"v_SM\", num_states = 2)\n",
    "v_C   = Variable(name = \"v_C\",  num_states = 2)\n",
    "v_W   = Variable(name = \"v_W\",  num_states = 2)\n",
    "###\n",
    "p_f_a = np.array( [0.05,0.95] )\n",
    "p_f_b = np.array( [[0.3,0.7],      #ST = 1\n",
    "                   [0.001,0.999]]) #ST = 0 \n",
    "p_f_c = np.array( [[0.90,0.10],[0.05,0.95]])\n",
    "p_f_d = np.array( [     #B\n",
    "                    [   #I\n",
    "                      [0.99,0.01],\n",
    "                      [0.9,0.1]] ,\n",
    "                    [\n",
    "                      [0.7,0.3],\n",
    "                      [0.0001,0.9999]\n",
    "                    ]\n",
    "                   ]\n",
    "                )\n",
    "p_f_e = np.array( [0.2,0.8])\n",
    "p_f_f = np.array( [[0.8,0.2],[0.07,0.93]])\n",
    "p_f_g = np.array( [[0.6,0.4],[0.001,0.999]])\n",
    "###\n",
    "f_a = Factor(name = \"f_a\", f=p_f_a, neighbours = [v_I])\n",
    "f_b = Factor(name = \"f_b\", f=p_f_b, neighbours = [v_I,v_ST])\n",
    "f_c = Factor(name = \"f_c\", f=p_f_c, neighbours = [v_I,v_F])\n",
    "f_d = Factor(name = \"f_d\", f=p_f_d, neighbours = [v_I,v_SM,v_B])\n",
    "f_e = Factor(name = \"f_e\", f=p_f_e, neighbours = [v_SM])\n",
    "f_f = Factor(name = \"f_f\", f=p_f_f, neighbours = [v_B,v_C])\n",
    "f_g = Factor(name = \"f_g\", f=p_f_g, neighbours = [v_B,v_W])"
   ]
  },
  {
   "cell_type": "markdown",
   "metadata": {},
   "source": [
    "### 1.2 Factor to variable messages (20 points)\n",
    "Write a method `send_sp_msg(self, other)` for the Factor class, that checks if all the information required to pass a message to Variable `other` is present, computes the message and sends it to `other`. \"Sending\" here simply means calling the `receive_msg` function of the receiving node (we will implement this later). The message itself should be represented as a numpy array (np.array) whose length is equal to the number of states of the variable.\n",
    "\n",
    "An elegant and efficient solution can be obtained using the n-way outer product of vectors. This product takes n vectors $\\mathbf{x}^{(1)}, \\ldots, \\mathbf{x}^{(n)}$ and computes a $n$-dimensional tensor (ndarray) whose element $i_0,i_1,...,i_n$ is given by $\\prod_j \\mathbf{x}^{(j)}_{i_j}$. In python, this is realized as `np.multiply.reduce(np.ix_(*vectors))` for a python list `vectors` of 1D numpy arrays. Try to figure out how this statement works -- it contains some useful functional programming techniques. Another function that you may find useful in computing the message is `np.tensordot`."
   ]
  },
  {
   "cell_type": "markdown",
   "metadata": {},
   "source": [
    "### 1.3 Variable to factor messages (10 points)\n",
    "\n",
    "Write a method `send_sp_message(self, other)` for the Variable class, that checks if all the information required to pass a message to Variable var is present, computes the message and sends it to factor."
   ]
  },
  {
   "cell_type": "markdown",
   "metadata": {},
   "source": [
    "### 1.4 Compute marginal (10 points)\n",
    "Later in this assignment, we will implement message passing schemes to do inference. Once the message passing has completed, we will want to compute local marginals for each variable.\n",
    "Write the method `marginal` for the Variable class, that computes a marginal distribution over that node."
   ]
  },
  {
   "cell_type": "markdown",
   "metadata": {},
   "source": [
    "### 1.5 Receiving messages (10 points)\n",
    "In order to implement the loopy and non-loopy message passing algorithms, we need some way to determine which nodes are ready to send messages to which neighbours. To do this in a way that works for both loopy and non-loopy algorithms, we make use of the concept of \"pending messages\", which is explained in Bishop (8.4.7): \n",
    "\"we will say that a (variable or factor)\n",
    "node a has a message pending on its link to a node b if node a has received any\n",
    "message on any of its other links since the last time it send (sic) a message to b. Thus,\n",
    "when a node receives a message on one of its links, this creates pending messages\n",
    "on all of its other links.\"\n",
    "\n",
    "Keep in mind that for the non-loopy algorithm, nodes may not have received any messages on some or all of their links. Therefore, before we say node a has a pending message for node b, we must check that node a has received all messages needed to compute the message that is to be sent to b.\n",
    "\n",
    "Modify the function `receive_msg`, so that it updates the self.pending variable as described above. The member self.pending is a set that is to be filled with Nodes to which self has pending messages. Modify the `send_msg` functions to remove pending messages as they are sent."
   ]
  },
  {
   "cell_type": "markdown",
   "metadata": {},
   "source": [
    "### 1.6 Inference Engine (10 points)\n",
    "Write a function `sum_product(node_list)` that runs the sum-product message passing algorithm on a tree-structured factor graph with given nodes. The input parameter `node_list` is a list of all Node instances in the graph, which is assumed to be ordered correctly. That is, the list starts with a leaf node, which can always send a message. Subsequent nodes in `node_list` should be capable of sending a message when the pending messages of preceding nodes in the list have been sent. The sum-product algorithm then proceeds by passing over the list from beginning to end, sending all pending messages at the nodes it encounters. Then, in reverse order, the algorithm traverses the list again and again sends all pending messages at each node as it is encountered. For this to work, you must initialize pending messages for all the leaf nodes, e.g. `influenza_prior.pending.add(influenza)`, where `influenza_prior` is a Factor node corresponding the the prior, `influenza` is a Variable node and the only connection of `influenza_prior` goes to `influenza`.\n",
    "\n",
    "\n"
   ]
  },
  {
   "cell_type": "code",
   "execution_count": 5,
   "metadata": {
    "collapsed": true
   },
   "outputs": [],
   "source": [
    "def sum_product(node_list):\n",
    "    k = 0\n",
    "    for i in range(len(node_list)):\n",
    "        for j in range(len(node_list[i].pending)):\n",
    "            node_list[i].send_sp_msg(list(node_list[i].pending)[j])\n",
    "            k = k+1\n",
    "    print(\"reversing\")        \n",
    "    node_list.reverse()\n",
    "    for i in range(len(node_list)):\n",
    "        for j in range(len(node_list[i].pending)):\n",
    "            node_list[i].send_sp_msg(list(node_list[i].pending)[j])\n",
    "            k = k+1\n",
    "    print(\"Number of mesages passing attempts: \", k)"
   ]
  },
  {
   "cell_type": "code",
   "execution_count": 6,
   "metadata": {
    "collapsed": false
   },
   "outputs": [
    {
     "name": "stdout",
     "output_type": "stream",
     "text": [
      "received msg  f_a v_I [ 0.05  0.95]\n",
      "received msg  f_e v_SM [ 0.2  0.8]\n",
      "received msg  v_SM f_d [ 0.2  0.8]\n",
      "received msg  v_C f_f [ 1.  1.]\n",
      "received msg  f_f v_B [ 1.  1.]\n",
      "received msg  v_W f_g [ 1.  1.]\n",
      "received msg  f_g v_B [ 1.  1.]\n",
      "received msg  v_B f_d [ 1.  1.]\n",
      "received msg  f_d v_I [ 1.  1.]\n",
      "received msg  v_ST f_b [ 1.  1.]\n",
      "received msg  f_b v_I [ 1.  1.]\n",
      "received msg  v_I f_c [ 0.05  0.95]\n",
      "received msg  f_c v_F [ 0.0925  0.9075]\n",
      "received msg  v_F f_c [ 1.  1.]\n",
      "reversing\n",
      "received msg  v_F f_c [ 1.  1.]\n",
      "received msg  f_c v_I [ 1.  1.]\n",
      "received msg  f_c v_F [ 0.0925  0.9075]\n",
      "received msg  v_I f_d [ 0.05  0.95]\n",
      "received msg  v_I f_a [ 1.  1.]\n",
      "received msg  v_I f_c [ 0.05  0.95]\n",
      "received msg  v_I f_b [ 0.05  0.95]\n",
      "received msg  f_b v_I [ 1.  1.]\n",
      "received msg  f_b v_ST [ 0.01595  0.98405]\n",
      "received msg  v_ST f_b [ 1.  1.]\n",
      "received msg  f_d v_B [ 0.178976  0.821024]\n",
      "received msg  f_d v_I [ 1.  1.]\n",
      "received msg  f_d v_SM [ 1.  1.]\n",
      "received msg  v_B f_f [ 0.178976  0.821024]\n",
      "received msg  v_B f_d [ 1.  1.]\n",
      "received msg  v_B f_g [ 0.178976  0.821024]\n",
      "received msg  f_g v_B [ 1.  1.]\n",
      "received msg  f_g v_W [ 0.10820662  0.89179338]\n",
      "received msg  v_W f_g [ 1.  1.]\n",
      "received msg  f_f v_C [ 0.20065248  0.79934752]\n",
      "received msg  f_f v_B [ 1.  1.]\n",
      "received msg  v_C f_f [ 1.  1.]\n",
      "received msg  v_SM f_d [ 0.2  0.8]\n",
      "received msg  v_SM f_e [ 1.  1.]\n",
      "received msg  f_e v_SM [ 0.2  0.8]\n",
      "received msg  f_a v_I [ 0.05  0.95]\n",
      "Number of mesages passing attempts:  43\n"
     ]
    }
   ],
   "source": [
    "# Set node input order\n",
    "input_node_order = list([f_a,f_e,v_SM,v_C,f_f,v_W,f_g,v_B,f_d,v_ST,f_b,v_I,f_c,v_F])\n",
    "\n",
    "# Initialize leaf nodes\n",
    "f_a.pending.add(v_I)\n",
    "f_e.pending.add(v_SM)\n",
    "v_C.pending.add(f_f)\n",
    "v_W.pending.add(f_g)\n",
    "v_ST.pending.add(f_b)\n",
    "v_F.pending.add(f_c)\n",
    "\n",
    "# Run SP algorithm\n",
    "sum_product(input_node_order)"
   ]
  },
  {
   "cell_type": "code",
   "execution_count": 7,
   "metadata": {
    "collapsed": false
   },
   "outputs": [
    {
     "name": "stdout",
     "output_type": "stream",
     "text": [
      "v_I [ 0.05  0.95]\n",
      "v_SM [ 0.2  0.8]\n",
      "v_B [ 0.178976  0.821024]\n",
      "v_ST [ 0.01595  0.98405]\n",
      "v_F [ 0.0925  0.9075]\n",
      "v_C [ 0.20065248  0.79934752]\n",
      "v_W [ 0.10820662  0.89179338]\n"
     ]
    }
   ],
   "source": [
    "## Print all marginals\n",
    "all_var = list([v_I,v_SM,v_B,v_ST,v_F,v_C,v_W])\n",
    "margs = np.arange(14).reshape(7, 2)\n",
    "for i in range(len(all_var)):\n",
    "    print(all_var[i], all_var[i].marginal()[0])"
   ]
  },
  {
   "cell_type": "markdown",
   "metadata": {},
   "source": [
    "### 1.7 Observed variables and probabilistic queries (15 points)\n",
    "We will now use the inference engine to answer probabilistic queries. That is, we will set certain variables to observed values, and obtain the marginals over latent variables. We have already provided functions `set_observed` and `set_latent` that manage a member of Variable called `observed_state`. Modify the `Variable.send_msg` and `Variable.marginal` routines that you wrote before, to use `observed_state` so as to get the required marginals when some nodes are observed."
   ]
  },
  {
   "cell_type": "code",
   "execution_count": 8,
   "metadata": {
    "collapsed": false
   },
   "outputs": [
    {
     "name": "stdout",
     "output_type": "stream",
     "text": [
      "received msg  v_F f_c [ 1.  1.]\n",
      "received msg  f_c v_I [ 1.  1.]\n",
      "received msg  f_c v_F [ 0.0925  0.9075]\n",
      "received msg  v_I f_a [ 1.  1.]\n",
      "received msg  v_I f_c [ 0.05  0.95]\n",
      "received msg  v_I f_d [ 0.05  0.95]\n",
      "received msg  v_I f_b [ 0.05  0.95]\n",
      "received msg  f_b v_I [ 1.  1.]\n",
      "received msg  f_b v_ST [ 0.01595  0.98405]\n",
      "received msg  v_ST f_b [ 1.  1.]\n",
      "received msg  f_d v_B [ 0.178976  0.821024]\n",
      "received msg  f_d v_I [ 1.  1.]\n",
      "received msg  f_d v_SM [ 1.  1.]\n",
      "received msg  v_B f_f [ 0.178976  0.821024]\n",
      "received msg  v_B f_d [ 1.  1.]\n",
      "received msg  v_B f_g [ 0.178976  0.821024]\n",
      "received msg  f_g v_B [ 1.  1.]\n",
      "received msg  f_g v_W [ 0.10820662  0.89179338]\n",
      "received msg  v_W f_g [  1.00000000e+00   1.00000000e-06]\n",
      "received msg  f_f v_C [ 0.20065248  0.79934752]\n",
      "received msg  f_f v_B [ 1.  1.]\n",
      "received msg  v_C f_f [  1.00000000e+00   1.00000000e-06]\n",
      "received msg  v_SM f_d [ 0.2  0.8]\n",
      "received msg  v_SM f_e [ 1.  1.]\n",
      "received msg  f_e v_SM [ 0.2  0.8]\n",
      "received msg  f_a v_I [ 0.05  0.95]\n",
      "reversing\n",
      "received msg  f_a v_I [ 0.05  0.95]\n",
      "received msg  f_e v_SM [ 0.2  0.8]\n",
      "received msg  v_SM f_d [ 0.2  0.8]\n",
      "received msg  v_SM f_e [ 1.  1.]\n",
      "received msg  v_C f_f [  1.00000000e+00   1.00000000e-06]\n",
      "received msg  f_f v_C [ 0.20065248  0.79934752]\n",
      "received msg  f_f v_B [ 0.8000002   0.07000093]\n",
      "received msg  v_W f_g [  1.00000000e+00   1.00000000e-06]\n",
      "received msg  f_g v_B [ 0.6000004  0.001001 ]\n",
      "received msg  f_g v_W [ 0.10820662  0.89179338]\n",
      "received msg  v_B f_f [ 0.10738567  0.00082184]\n",
      "received msg  v_B f_d [  4.80000440e-01   7.00708609e-05]\n",
      "received msg  v_B f_g [ 0.14318084  0.05747244]\n",
      "received msg  f_d v_B [ 0.178976  0.821024]\n",
      "received msg  f_d v_I [ 0.44064615  0.06729872]\n",
      "received msg  f_d v_SM [ 0.34298032  0.02171253]\n",
      "received msg  v_ST f_b [ 1.  1.]\n",
      "received msg  f_b v_I [ 1.  1.]\n",
      "received msg  f_b v_ST [ 0.01595  0.98405]\n",
      "received msg  v_I f_a [ 0.44064615  0.06729872]\n",
      "received msg  v_I f_c [ 0.02203231  0.06393378]\n",
      "received msg  v_I f_d [ 0.05  0.95]\n",
      "received msg  v_I f_b [ 0.02203231  0.06393378]\n",
      "received msg  f_c v_I [ 1.  1.]\n",
      "received msg  f_c v_F [ 0.02302577  0.06294032]\n",
      "received msg  v_F f_c [ 1.  1.]\n",
      "Number of mesages passing attempts:  52\n"
     ]
    }
   ],
   "source": [
    "# Set coughing and wheezing to observed\n",
    "v_C.set_observed(0)\n",
    "v_W.set_observed(0)\n",
    "# Re-run SP \n",
    "sum_product(input_node_order)"
   ]
  },
  {
   "cell_type": "code",
   "execution_count": 9,
   "metadata": {
    "collapsed": false
   },
   "outputs": [
    {
     "name": "stdout",
     "output_type": "stream",
     "text": [
      "v_I [ 0.25629068  0.74370932]\n",
      "v_SM [ 0.79794329  0.20205671]\n",
      "v_B [  9.99330784e-01   6.69215727e-04]\n",
      "v_ST [ 0.01595  0.98405]\n",
      "v_F [ 0.26784708  0.73215292]\n",
      "v_C [ 1.  0.]\n",
      "v_W [ 1.  0.]\n"
     ]
    }
   ],
   "source": [
    "# Print all marginals\n",
    "all_var = list([v_I,v_SM,v_B,v_ST,v_F,v_C,v_W])\n",
    "margs = np.arange(14).reshape(7, 2)\n",
    "for i in range(len(all_var)):\n",
    "    print(all_var[i], all_var[i].marginal()[0])"
   ]
  },
  {
   "cell_type": "markdown",
   "metadata": {},
   "source": [
    "### 1.8 Sum-product and MAP states (5 points)\n",
    "A maximum a posteriori state (MAP-state) is an assignment of all latent variables that maximizes the probability of latent variables given observed variables:\n",
    "$$\n",
    "\\mathbf{x}_{\\verb+MAP+} = \\arg\\max _{\\mathbf{x}} p(\\mathbf{x} | \\mathbf{y})\n",
    "$$\n",
    "Could we use the sum-product algorithm to obtain a MAP state? If yes, how? If no, why not?\n"
   ]
  },
  {
   "cell_type": "markdown",
   "metadata": {},
   "source": [
    "**ANSWER** The answer to this question depends on whether $\\mathbf{x}$ is thought to be a scalar or a vector, leading to the MAP estimate for the conditional distribution of a single $x$ are several $x$ jointly. In the former case, the sum-product algorithm can be applied, for example by setting certain $y$ equal to observed values, running the algorithm, and then choosing for each $x$ the category that maximizes the probability to be observed. In the latter case, this procedure will not be successful, as it maximizes the marginal probability for a single $x$ instead of the vector. The max-sum algorithm is more suitable for this purpose."
   ]
  },
  {
   "cell_type": "markdown",
   "metadata": {},
   "source": [
    "## Part 2: The max-sum algorithm\n",
    "Next, we implement the max-sum algorithm as described in section 8.4.5 of Bishop."
   ]
  },
  {
   "cell_type": "markdown",
   "metadata": {},
   "source": [
    "### 2.1 Factor to variable messages (10 points)\n",
    "Implement the function `Factor.send_ms_msg` that sends Factor -> Variable messages for the max-sum algorithm. It is analogous to the `Factor.send_sp_msg` function you implemented before."
   ]
  },
  {
   "cell_type": "markdown",
   "metadata": {},
   "source": [
    "### 2.2 Variable to factor messages (10 points)\n",
    "Implement the `Variable.send_ms_msg` function that sends Variable -> Factor messages for the max-sum algorithm."
   ]
  },
  {
   "cell_type": "markdown",
   "metadata": {},
   "source": [
    "### 2.3 Find a MAP state (10 points)\n",
    "\n",
    "Using the same message passing schedule we used for sum-product, implement the max-sum algorithm. For simplicity, we will ignore issues relating to non-unique maxima. So there is no need to implement backtracking; the MAP state is obtained by a per-node maximization (eq. 8.98 in Bishop). Make sure your algorithm works with both latent and observed variables."
   ]
  },
  {
   "cell_type": "code",
   "execution_count": 10,
   "metadata": {
    "collapsed": false
   },
   "outputs": [],
   "source": [
    "def max_sum(node_list):\n",
    "    k = 0\n",
    "    for i in range(len(node_list)):\n",
    "        for j in range(len(node_list[i].pending)):\n",
    "            node_list[i].send_ms_msg(list(node_list[i].pending)[j])\n",
    "            k = k+1\n",
    "    print(\"reversing\")        \n",
    "    node_list.reverse()\n",
    "    for i in range(len(node_list)):\n",
    "        for j in range(len(node_list[i].pending)):\n",
    "            node_list[i].send_ms_msg(list(node_list[i].pending)[j])\n",
    "            k = k+1\n",
    "    print(\"Number of mesages passing attempts: \", k)"
   ]
  },
  {
   "cell_type": "code",
   "execution_count": 11,
   "metadata": {
    "collapsed": true
   },
   "outputs": [],
   "source": [
    "def MAP_state(var_list):\n",
    "    map_state = np.zeros(len(var_list))\n",
    "    S_list = [] \n",
    "    var_names = []\n",
    "    for i in range(len(var_list)):\n",
    "        if( sum(var_list[i].observed_state) == var_list[i].num_states) :\n",
    "            in_messages = [var_list[i].in_msgs[n] for n in var_list[i].neighbours] \n",
    "            S = np.zeros(var_list[i].num_states)\n",
    "            for j in range(len(in_messages)):\n",
    "                S = S + in_messages[j]\n",
    "            map_state[i] = np.argmax(S)\n",
    "            S_list.append(S)\n",
    "        else:\n",
    "            map_state[i] = np.argmax(var_list[i].observed_state)\n",
    "            S_list.append(None)\n",
    "        var_names.append(var_list[i].name)\n",
    "    \n",
    "    for var_name, map_state_elem, s in zip(var_names, map_state, S_list):\n",
    "        print('Variable {} has MAP state {} with sum {}'.format(var_name, map_state_elem, s))\n",
    "    #return var_names, map_state, S_list\n"
   ]
  },
  {
   "cell_type": "code",
   "execution_count": 12,
   "metadata": {
    "collapsed": false
   },
   "outputs": [],
   "source": [
    "# Re-initialize set-up\n",
    "###\n",
    "v_I   = Variable(name = \"v_I\",  num_states = 2)\n",
    "v_ST  = Variable(name = \"v_ST\", num_states = 2)\n",
    "v_F   = Variable(name = \"v_F\",  num_states = 2)\n",
    "v_B   = Variable(name = \"v_B\",  num_states = 2)\n",
    "v_SM  = Variable(name = \"v_SM\", num_states = 2)\n",
    "v_C   = Variable(name = \"v_C\",  num_states = 2)\n",
    "v_W   = Variable(name = \"v_W\",  num_states = 2)\n",
    "f_a = Factor(name = \"f_a\", f=p_f_a, neighbours = [v_I])\n",
    "f_b = Factor(name = \"f_b\", f=p_f_b, neighbours = [v_I,v_ST])\n",
    "f_c = Factor(name = \"f_c\", f=p_f_c, neighbours = [v_I,v_F])\n",
    "f_d = Factor(name = \"f_d\", f=p_f_d, neighbours = [v_I,v_SM,v_B])\n",
    "f_e = Factor(name = \"f_e\", f=p_f_e, neighbours = [v_SM])\n",
    "f_f = Factor(name = \"f_f\", f=p_f_f, neighbours = [v_B,v_C])\n",
    "f_g = Factor(name = \"f_g\", f=p_f_g, neighbours = [v_B,v_W])\n",
    "\n",
    "# make a list of all variables\n",
    "all_var = list([v_I,v_SM,v_B,v_ST,v_F,v_C,v_W])\n",
    "\n",
    "# Set node input order\n",
    "input_node_order = list([f_a,f_e,v_SM,v_C,f_f,v_W,f_g,v_B,f_d,v_ST,f_b,v_I,f_c,v_F])\n",
    "\n",
    "# Initialize leaf nodes\n",
    "f_a.pending.add(v_I)\n",
    "f_e.pending.add(v_SM)\n",
    "v_C.pending.add(f_f)\n",
    "v_W.pending.add(f_g)\n",
    "v_ST.pending.add(f_b)\n",
    "v_F.pending.add(f_c)"
   ]
  },
  {
   "cell_type": "code",
   "execution_count": 13,
   "metadata": {
    "collapsed": false
   },
   "outputs": [
    {
     "name": "stdout",
     "output_type": "stream",
     "text": [
      "received msg  f_a v_I [-2.99573227 -0.05129329]\n",
      "received msg  f_e v_SM [-1.60943791 -0.22314355]\n",
      "received msg  v_SM f_d [-1.60943791 -0.22314355]\n",
      "received msg  v_C f_f [ 0.  0.]\n",
      "received msg  f_f v_B [-0.22314355 -0.07257069]\n",
      "received msg  v_W f_g [ 0.  0.]\n",
      "received msg  f_g v_B [-0.51082562 -0.0010005 ]\n",
      "received msg  v_B f_d [-0.73396918 -0.07357119]\n",
      "received msg  f_d v_I [-1.06247324 -0.29681475]\n",
      "received msg  v_ST f_b [ 0.  0.]\n",
      "received msg  f_b v_I [-0.35667494 -0.0010005 ]\n",
      "received msg  v_I f_c [-4.41488046 -0.34910854]\n",
      "received msg  f_c v_F [-3.34484082 -0.40040184]\n",
      "received msg  v_F f_c [ 0.  0.]\n",
      "reversing\n",
      "received msg  v_F f_c [ 0.  0.]\n",
      "received msg  f_c v_F [-3.34484082 -0.40040184]\n",
      "received msg  f_c v_I [-0.10536052 -0.05129329]\n",
      "received msg  v_I f_b [-4.16356603 -0.39940134]\n",
      "received msg  v_I f_a [-1.5245087  -0.34910854]\n",
      "received msg  v_I f_d [-3.45776773 -0.10358709]\n",
      "received msg  v_I f_c [-4.41488046 -0.34910854]\n",
      "received msg  f_b v_ST [-5.36753884 -0.40040184]\n",
      "received msg  f_b v_I [-0.35667494 -0.0010005 ]\n",
      "received msg  v_ST f_b [ 0.  0.]\n",
      "received msg  f_d v_B [-2.06969995 -0.32683065]\n",
      "received msg  f_d v_I [-1.06247324 -0.29681475]\n",
      "received msg  f_d v_SM [-1.19423121 -0.17725829]\n",
      "received msg  v_B f_g [-2.2928435  -0.39940134]\n",
      "received msg  v_B f_f [-2.58052557 -0.32783115]\n",
      "received msg  v_B f_d [-0.73396918 -0.07357119]\n",
      "received msg  f_g v_B [-0.51082562 -0.0010005 ]\n",
      "received msg  f_g v_W [-2.80366912 -0.40040184]\n",
      "received msg  v_W f_g [ 0.  0.]\n",
      "received msg  f_f v_C [-2.80366912 -0.40040184]\n",
      "received msg  f_f v_B [-0.22314355 -0.07257069]\n",
      "received msg  v_C f_f [ 0.  0.]\n",
      "received msg  v_SM f_e [-1.19423121 -0.17725829]\n",
      "received msg  v_SM f_d [-1.60943791 -0.22314355]\n",
      "received msg  f_e v_SM [-1.60943791 -0.22314355]\n",
      "received msg  f_a v_I [-2.99573227 -0.05129329]\n",
      "Number of mesages passing attempts:  43\n"
     ]
    }
   ],
   "source": [
    "# Run Max-Sum algorithm\n",
    "max_sum(input_node_order)"
   ]
  },
  {
   "cell_type": "code",
   "execution_count": 14,
   "metadata": {
    "collapsed": false
   },
   "outputs": [
    {
     "name": "stdout",
     "output_type": "stream",
     "text": [
      "Variable v_I has MAP state 1.0 with sum [-4.52024098 -0.40040184]\n",
      "Variable v_SM has MAP state 1.0 with sum [-2.80366912 -0.40040184]\n",
      "Variable v_B has MAP state 1.0 with sum [-2.80366912 -0.40040184]\n",
      "Variable v_ST has MAP state 1.0 with sum [-5.36753884 -0.40040184]\n",
      "Variable v_F has MAP state 1.0 with sum [-3.34484082 -0.40040184]\n",
      "Variable v_C has MAP state 1.0 with sum [-2.80366912 -0.40040184]\n",
      "Variable v_W has MAP state 1.0 with sum [-2.80366912 -0.40040184]\n"
     ]
    }
   ],
   "source": [
    "# Get MAP states for all variables\n",
    "MAP_state(all_var)"
   ]
  },
  {
   "cell_type": "code",
   "execution_count": 15,
   "metadata": {
    "collapsed": false
   },
   "outputs": [
    {
     "name": "stdout",
     "output_type": "stream",
     "text": [
      "received msg  f_a v_I [-2.99573227 -0.05129329]\n",
      "received msg  f_e v_SM [-1.60943791 -0.22314355]\n",
      "received msg  v_SM f_d [ -1.60943791e+00  -2.23143551e-07]\n",
      "received msg  v_C f_f [ 0.  0.]\n",
      "received msg  f_f v_B [-0.22314355 -0.07257069]\n",
      "received msg  v_W f_g [ 0.  0.]\n",
      "received msg  f_g v_B [-0.51082562 -0.0010005 ]\n",
      "received msg  v_B f_d [-0.73396918 -0.07357119]\n",
      "received msg  f_d v_I [-0.83932991 -0.07367142]\n",
      "received msg  v_ST f_b [ 0.  0.]\n",
      "received msg  f_b v_I [-0.35667494 -0.0010005 ]\n",
      "received msg  v_I f_c [ -4.19173713e+00  -1.25965216e-07]\n",
      "received msg  f_c v_F [-2.9957324  -0.05129342]\n",
      "received msg  v_F f_c [ 0.  0.]\n",
      "reversing\n",
      "received msg  v_F f_c [ 0.  0.]\n",
      "received msg  f_c v_F [-2.9957324  -0.05129342]\n",
      "received msg  f_c v_I [-0.10536052 -0.05129329]\n",
      "received msg  v_I f_a [ -1.30136537e+00  -1.25965216e-07]\n",
      "received msg  v_I f_d [ -3.45776773e+00  -1.03587089e-07]\n",
      "received msg  v_I f_c [ -4.19173713e+00  -1.25965216e-07]\n",
      "received msg  v_I f_b [ -3.94042270e+00  -1.76258010e-07]\n",
      "received msg  f_b v_ST [ -5.14439551e+00  -1.00067659e-03]\n",
      "received msg  f_b v_I [-0.35667494 -0.0010005 ]\n",
      "received msg  v_ST f_b [ 0.  0.]\n",
      "received msg  f_d v_B [ -1.96611296e+00  -1.00331731e-04]\n",
      "received msg  f_d v_I [-0.83932991 -0.07367142]\n",
      "received msg  f_d v_SM [-1.09064422 -0.0736713 ]\n",
      "received msg  v_B f_d [-0.73396918 -0.07357119]\n",
      "received msg  v_B f_g [-2.18925651 -0.07267102]\n",
      "received msg  v_B f_f [ -2.47693858e+00  -1.10083206e-03]\n",
      "received msg  f_g v_B [-0.51082562 -0.0010005 ]\n",
      "received msg  f_g v_W [-2.70008214 -0.07367152]\n",
      "received msg  v_W f_g [ 0.  0.]\n",
      "received msg  f_f v_C [-2.66036087 -0.07367152]\n",
      "received msg  f_f v_B [-0.22314355 -0.07257069]\n",
      "received msg  v_C f_f [ 0.  0.]\n",
      "received msg  v_SM f_d [ -1.60943791e+00  -2.23143551e-07]\n",
      "received msg  v_SM f_e [ -1.09064422e+00  -7.36713018e-08]\n",
      "received msg  f_e v_SM [-1.60943791 -0.22314355]\n",
      "received msg  f_a v_I [-2.99573227 -0.05129329]\n",
      "Number of mesages passing attempts:  43\n"
     ]
    }
   ],
   "source": [
    "## Fixing observed values\n",
    "## Re-initialize set-up\n",
    "##\n",
    "v_I   = Variable(name = \"v_I\",  num_states = 2)\n",
    "v_ST  = Variable(name = \"v_ST\", num_states = 2)\n",
    "v_F   = Variable(name = \"v_F\",  num_states = 2)\n",
    "v_B   = Variable(name = \"v_B\",  num_states = 2)\n",
    "v_SM  = Variable(name = \"v_SM\", num_states = 2)\n",
    "v_C   = Variable(name = \"v_C\",  num_states = 2)\n",
    "v_W   = Variable(name = \"v_W\",  num_states = 2)\n",
    "f_a = Factor(name = \"f_a\", f=p_f_a, neighbours = [v_I])\n",
    "f_b = Factor(name = \"f_b\", f=p_f_b, neighbours = [v_I,v_ST])\n",
    "f_c = Factor(name = \"f_c\", f=p_f_c, neighbours = [v_I,v_F])\n",
    "f_d = Factor(name = \"f_d\", f=p_f_d, neighbours = [v_I,v_SM,v_B])\n",
    "f_e = Factor(name = \"f_e\", f=p_f_e, neighbours = [v_SM])\n",
    "f_f = Factor(name = \"f_f\", f=p_f_f, neighbours = [v_B,v_C])\n",
    "f_g = Factor(name = \"f_g\", f=p_f_g, neighbours = [v_B,v_W])\n",
    "\n",
    "# make a list of all variables\n",
    "all_var = list([v_I,v_SM,v_B,v_ST,v_F,v_C,v_W])\n",
    "\n",
    "# Set node input order\n",
    "input_node_order = list([f_a,f_e,v_SM,v_C,f_f,v_W,f_g,v_B,f_d,v_ST,f_b,v_I,f_c,v_F])\n",
    "\n",
    "# Initialize leaf nodes\n",
    "f_a.pending.add(v_I)\n",
    "f_e.pending.add(v_SM)\n",
    "v_C.pending.add(f_f)\n",
    "v_W.pending.add(f_g)\n",
    "v_ST.pending.add(f_b)\n",
    "v_F.pending.add(f_c)\n",
    "\n",
    "# Set coughing and wheezing to observed\n",
    "#v_SM.set_observed(0)\n",
    "#v_C.set_observed(0)\n",
    "#v_W.set_observed(0)\n",
    "#v_ST.set_observed(0)\n",
    "#v_F.set_observed(0)\n",
    "v_I.set_observed(0)\n",
    "v_SM.set_observed(0)\n",
    "\n",
    "max_sum(input_node_order)"
   ]
  },
  {
   "cell_type": "code",
   "execution_count": 16,
   "metadata": {
    "collapsed": false
   },
   "outputs": [
    {
     "name": "stdout",
     "output_type": "stream",
     "text": [
      "Variable v_I has MAP state 0.0 with sum None\n",
      "Variable v_SM has MAP state 0.0 with sum None\n",
      "Variable v_B has MAP state 1.0 with sum [-2.70008214 -0.07367152]\n",
      "Variable v_ST has MAP state 1.0 with sum [ -5.14439551e+00  -1.00067659e-03]\n",
      "Variable v_F has MAP state 1.0 with sum [-2.9957324  -0.05129342]\n",
      "Variable v_C has MAP state 1.0 with sum [-2.66036087 -0.07367152]\n",
      "Variable v_W has MAP state 1.0 with sum [-2.70008214 -0.07367152]\n"
     ]
    }
   ],
   "source": [
    "MAP_state(all_var)"
   ]
  },
  {
   "cell_type": "markdown",
   "metadata": {},
   "source": [
    "## Part 3: Image Denoising and Loopy BP\n",
    "\n",
    "Next, we will use a loopy version of max-sum to perform denoising on a binary image. The model itself is discussed in Bishop 8.3.3, but we will use loopy max-sum instead of Iterative Conditional Modes as Bishop does.\n",
    "\n",
    "The following code creates some toy data: `im` is a quite large binary image and `test_im` is a smaller synthetic binary image. Noisy versions are also provided."
   ]
  },
  {
   "cell_type": "code",
   "execution_count": 17,
   "metadata": {
    "collapsed": false
   },
   "outputs": [
    {
     "data": {
      "text/plain": [
       "<matplotlib.image.AxesImage at 0x779d978>"
      ]
     },
     "execution_count": 17,
     "metadata": {},
     "output_type": "execute_result"
    },
    {
     "data": {
      "image/png": "[encoded data removed]",
      "text/plain": [
       "<matplotlib.figure.Figure at 0x55a5630>"
      ]
     },
     "metadata": {},
     "output_type": "display_data"
    },
    {
     "data": {
      "image/png": "[encoded data removed]",
      "text/plain": [
       "<matplotlib.figure.Figure at 0x76bf2b0>"
      ]
     },
     "metadata": {},
     "output_type": "display_data"
    },
    {
     "data": {
      "image/png": "[encoded data removed]",
      "text/plain": [
       "<matplotlib.figure.Figure at 0x76bfc18>"
      ]
     },
     "metadata": {},
     "output_type": "display_data"
    },
    {
     "data": {
      "image/png": "[encoded data removed]",
      "text/plain": [
       "<matplotlib.figure.Figure at 0x770f2e8>"
      ]
     },
     "metadata": {},
     "output_type": "display_data"
    }
   ],
   "source": [
    "from pylab import imread, gray\n",
    "# Load the image and binarize\n",
    "im = np.mean(imread('dalmatian1.png'), axis=2) > 0.5\n",
    "imshow(im)\n",
    "gray()\n",
    "\n",
    "# Add some noise\n",
    "noise = np.random.rand(*im.shape) > 0.9\n",
    "noise_im = np.logical_xor(noise, im)\n",
    "figure()\n",
    "imshow(noise_im)\n",
    "\n",
    "test_im = np.zeros((10,10))\n",
    "#test_im[5:8, 3:8] = 1.0\n",
    "#test_im[5,5] = 1.0\n",
    "figure()\n",
    "imshow(test_im)\n",
    "\n",
    "# Add some noise\n",
    "noise = np.random.rand(*test_im.shape) > 0.9\n",
    "noise_test_im = np.logical_xor(noise, test_im)\n",
    "figure()\n",
    "imshow(noise_test_im)"
   ]
  },
  {
   "cell_type": "markdown",
   "metadata": {},
   "source": [
    "### 3.1 Construct factor graph (10 points)\n",
    "Convert the Markov Random Field (Bishop, fig. 8.31) to a factor graph and instantiate it."
   ]
  },
  {
   "cell_type": "code",
   "execution_count": 18,
   "metadata": {
    "collapsed": true
   },
   "outputs": [],
   "source": [
    "# YOUR ANSWER HERE"
   ]
  },
  {
   "cell_type": "markdown",
   "metadata": {},
   "source": [
    "### 3.2 Loopy max-sum (10 points)\n",
    "Implement the loopy max-sum algorithm, by passing messages from randomly chosen nodes iteratively until no more pending messages are created or a maximum number of iterations is reached. \n",
    "\n",
    "Think of a good way to initialize the messages in the graph."
   ]
  },
  {
   "cell_type": "code",
   "execution_count": 19,
   "metadata": {
    "collapsed": true
   },
   "outputs": [],
   "source": [
    "# YOUR ANSWER hErE"
   ]
  }
 ],
 "metadata": {
  "anaconda-cloud": {},
  "kernelspec": {
   "display_name": "Python [Root]",
   "language": "python",
   "name": "Python [Root]"
  },
  "language_info": {
   "codemirror_mode": {
    "name": "ipython",
    "version": 3
   },
   "file_extension": ".py",
   "mimetype": "text/x-python",
   "name": "python",
   "nbconvert_exporter": "python",
   "pygments_lexer": "ipython3",
   "version": "3.5.2"
  }
 },
 "nbformat": 4,
 "nbformat_minor": 0
}
